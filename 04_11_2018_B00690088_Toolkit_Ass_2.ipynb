{
 "cells": [
  {
   "cell_type": "markdown",
   "metadata": {},
   "source": [
    "                Directing efforts to improve composting practices in Canada.\n"
   ]
  },
  {
   "cell_type": "markdown",
   "metadata": {},
   "source": [
    "\n",
    "Introduction:\n",
    "\n",
    "Of the 12.9 million tonnes of waste produced by Canadians annually, 8.5 million are sent to waste disposal facilities while 4.4 million are recycled or composted by waste diversion programs. Composting allows food waste to be decomposed aerobically generating carbon dioxide. Food waste that decomposes anaerobically in landfills generates methane, a much more potent greenhouse gas that traps 25 times as much heat as CO2. \n",
    "\n",
    "Considering the critical state of Earth’s climate and the dire need to bring net greenhouse gas emissions to zero in the next thirty years as outlined by the IPCC report in October 2018, humans will need to take every available measure to reach that target.\n",
    "\n",
    "Not only does composting reduce the amount of waste sent to landfills and the greenhouse gases emitted by waste management facilities, but the compost product can be highly valuable as fertilizer. The use of synthetic fertilizer has increased dramatically with industrial agriculture and the depletion of soil quality from climate change and monocultures in particular. Using compost as fertilizer is advantageous in the quest to reduce greenhouse gas emissions by eliminating those released from the production of synthetic fertilizer, but it has also been demonstrated to boost soil quality immensely. Synthetic fertilizers have been linked to severe degradation of the aquatic ecosystems into which they leach, causing eutrophication and subsequent anoxic dead zones. The addition of trace minerals and organic carbon to soils with compost increases their ability to sequester carbon dioxide and increases its structural stability which decreases erosion and harmful leachate into watersheds.\n",
    "\n",
    "Composting participation in Canada has risen substantially over the last two decades, particularly in municipalities that have developed composting programs such as curb side pickup, waste management centres and wet/dry waste separation. Curbside collection services were most widely used in Census metropolitan areas, where they are most widely available. However, a variety of options exist for composting in urban and rural areas, and the practicality of each one depends primarily on volume of organic waste, space availability, and income. \n",
    "\n",
    "The most prominent issues people find with composting are related to limited space and the attraction of pests. A 2011 national census found that composting practices were directly related to dwelling type. Income was also shown to have a large influence on composting behavior, as well as education and tenure of the property. \n",
    "\n",
    "Composting rates in single dwellings were over two times higher than those in apartments. In order to increase composting participation, efforts should be targeted to creating programs for demographics demonstrating the lowest participation. This analysis examines whether provinces with poor composting participation have lower proportions of single dwellings, which might indicate a need for composting programs tailored to facilitating composting for apartment dwellers.\n",
    "\n"
   ]
  },
  {
   "cell_type": "markdown",
   "metadata": {},
   "source": [
    "Methods:"
   ]
  },
  {
   "cell_type": "code",
   "execution_count": 7,
   "metadata": {},
   "outputs": [
    {
     "name": "stderr",
     "output_type": "stream",
     "text": [
      "Warning message:\n",
      "“S3 methods ‘[.fun_list’, ‘[.grouped_df’, ‘all.equal.tbl_df’, ‘anti_join.data.frame’, ‘anti_join.tbl_df’, ‘arrange.data.frame’, ‘arrange.default’, ‘arrange.grouped_df’, ‘arrange.tbl_df’, ‘arrange_.data.frame’, ‘arrange_.tbl_df’, ‘as.data.frame.grouped_df’, ‘as.data.frame.rowwise_df’, ‘as.data.frame.tbl_cube’, ‘as.data.frame.tbl_df’, ‘as.table.tbl_cube’, ‘as.tbl.data.frame’, ‘as.tbl.tbl’, ‘as.tbl_cube.array’, ‘as.tbl_cube.data.frame’, ‘as.tbl_cube.matrix’, ‘as.tbl_cube.table’, ‘as_data_frame.grouped_df’, ‘as_data_frame.tbl_cube’, ‘auto_copy.tbl_cube’, ‘auto_copy.tbl_df’, ‘cbind.grouped_df’, ‘collapse.data.frame’, ‘collect.data.frame’, ‘common_by.NULL’, ‘common_by.character’, ‘common_by.default’, ‘common_by.list’, ‘compute.data.frame’, ‘copy_to.DBIConnection’, ‘copy_to.src_local’, ‘default_missing.data.frame’, ‘default_missing.default’, ‘dim.tbl_cube’, ‘distinct.data.frame’, ‘distinct.default’, ‘distinct.grouped_df’, ‘distinct.tbl_df’, ‘distinct_.data.frame’, ‘distinct_.grouped_df’, ‘distinct_.tbl_df’, ‘do.NULL’, ‘do.data.frame’, ‘do.default’, ‘do.grouped_df’, ‘do.rowwise_df’, ‘do_.NULL’, ‘do_.data.frame’, ‘do_.grouped_df’, ‘do_.rowwise_df’, ‘filter.data.frame’, ‘filter.default’, ‘filter.tbl_cube’, ‘filter.tbl_df’, ‘filter.ts’, ‘filter_.data.frame’, ‘filter_.tbl_cube’, ‘filter_.tbl_df’, ‘format.src_local’, ‘full_join.data.frame’, ‘full_join.tbl_df’, ‘group_by.data.frame’, ‘group_by.default’, ‘group_by.rowwise_df’, ‘group_by.tbl_cube’, ‘group_by_.data.frame’, ‘group_by_.rowwise_df’, ‘group_by_.tbl_cube’, ‘group_indices.data.frame’, ‘group_indices.default’, ‘group_indices.grouped_df’, ‘group_indices_.data.frame’, ‘group_indices_.grouped_df’, ‘group_size.data.frame’, ‘group_size.grouped_df’, ‘group_size.rowwise_df’, ‘group_vars.default’, ‘group_vars.grouped_df’, ‘group_vars.tbl_cube’, ‘groups.data.frame’, ‘groups.grouped_df’, ‘groups.tbl_cube’, ‘inner_join.data.frame’, ‘inner_join.tbl_df’, ‘intersect.data.frame’, ‘intersect.default’, ‘left_join.data.frame’, ‘left_join.tbl_df’, ‘mutate.data.frame’, ‘mutate.default’, ‘mutate.tbl_df’, ‘mutate_.data.frame’, ‘mutate_.tbl_df’, ‘n_groups.data.frame’, ‘n_groups.grouped_df’, ‘n_groups.rowwise_df’, ‘print.BoolResult’, ‘print.all_vars’, ‘print.any_vars’, ‘print.fun_list’, ‘print.location’, ‘print.rowwise_df’, ‘print.src’, ‘print.tbl_cube’, ‘pull.data.frame’, ‘rbind.grouped_df’, ‘recode.character’, ‘recode.factor’, ‘recode.numeric’, ‘rename.data.frame’, ‘rename.default’, ‘rename.grouped_df’, ‘rename.tbl_cube’, ‘rename_.data.frame’, ‘rename_.grouped_df’, ‘rename_.tbl_cube’, ‘right_join.data.frame’, ‘right_join.tbl_df’, ‘same_src.data.frame’, ‘same_src.tbl_cube’, ‘sample_frac.data.frame’, ‘sample_frac.default’, ‘sample_frac.grouped_df’, ‘sample_n.data.frame’, ‘sample_n.default’, ‘sample_n.grouped_df’, ‘select.data.frame’, ‘select.default’, ‘select.grouped_df’, ‘select.tbl_cube’, ‘select_.data.frame’, ‘select_.grouped_df’, ‘select_.tbl_cube’, ‘semi_join.data.frame’, ‘semi_join.tbl_df’, ‘setdiff.data.frame’, ‘setdiff.default’, ‘setequal.data.frame’, ‘setequal.default’, ‘slice.data.frame’, ‘slice.default’, ‘slice.tbl_df’, ‘slice_.data.frame’, ‘slice_.tbl_df’, ‘src_tbls.src_local’, ‘summarise.data.frame’, ‘summarise.default’, ‘summarise.tbl_cube’, ‘summarise.tbl_df’, ‘summarise_.data.frame’, ‘summarise_.tbl_cube’, ‘summarise_.tbl_df’, ‘tbl.DBIConnection’, ‘tbl.src_local’, ‘tbl_sum.grouped_df’, ‘tbl_vars.data.frame’, ‘tbl_vars.tbl_cube’, ‘transmute.default’, ‘transmute.grouped_df’, ‘transmute_.default’, ‘transmute_.grouped_df’, ‘ungroup.data.frame’, ‘ungroup.grouped_df’, ‘ungroup.rowwise_df’, ‘union.data.frame’, ‘union.default’, ‘union_all.data.frame’, ‘union_all.default’ were declared in NAMESPACE but not found”"
     ]
    },
    {
     "ename": "ERROR",
     "evalue": "Error: package or namespace load failed for ‘dplyr’ in library.dynam(lib, package, package.lib):\n shared object ‘dplyr.so’ not found\n",
     "output_type": "error",
     "traceback": [
      "Error: package or namespace load failed for ‘dplyr’ in library.dynam(lib, package, package.lib):\n shared object ‘dplyr.so’ not found\nTraceback:\n",
      "1. library(dplyr)",
      "2. tryCatch({\n .     attr(package, \"LibPath\") <- which.lib.loc\n .     ns <- loadNamespace(package, lib.loc)\n .     env <- attachNamespace(ns, pos = pos, deps)\n . }, error = function(e) {\n .     P <- if (!is.null(cc <- conditionCall(e))) \n .         paste(\" in\", deparse(cc)[1L])\n .     else \"\"\n .     msg <- gettextf(\"package or namespace load failed for %s%s:\\n %s\", \n .         sQuote(package), P, conditionMessage(e))\n .     if (logical.return) \n .         message(paste(\"Error:\", msg), domain = NA)\n .     else stop(msg, call. = FALSE, domain = NA)\n . })",
      "3. tryCatchList(expr, classes, parentenv, handlers)",
      "4. tryCatchOne(expr, names, parentenv, handlers[[1L]])",
      "5. value[[3L]](cond)",
      "6. stop(msg, call. = FALSE, domain = NA)"
     ]
    }
   ],
   "source": [
    "#load all libraries needed for data analysis\n",
    "library(rvest)\n",
    "library(dplyr)\n",
    "library(ggplot2)"
   ]
  },
  {
   "cell_type": "markdown",
   "metadata": {},
   "source": [
    "1. Object was created for Statistics Canada's \"Composting by households in Canada\" web page where regional composting data was extracted from."
   ]
  },
  {
   "cell_type": "code",
   "execution_count": 8,
   "metadata": {},
   "outputs": [],
   "source": [
    " HoCompost <- read_html(\"https://www150.statcan.gc.ca/n1/pub/16-002-x/2013001/article/11848-eng.htm\")"
   ]
  },
  {
   "cell_type": "markdown",
   "metadata": {},
   "source": [
    "2. Created object (Messy) for the table containing regional composting data by selecting all the tables on the webpage then isolate the second one using positional indexing in double brackets. The object was then specified to be formatted as a table."
   ]
  },
  {
   "cell_type": "code",
   "execution_count": 9,
   "metadata": {},
   "outputs": [],
   "source": [
    "Messy <- HoCompost %>% html_nodes('table')  %>% .[[2]] %>% html_table(fill=TRUE)"
   ]
  },
  {
   "cell_type": "markdown",
   "metadata": {},
   "source": [
    "3. New object (prov.cdata) was created from the regional data table to by selecting only the column for province and total per cent of households that composted. Then rename the columns"
   ]
  },
  {
   "cell_type": "code",
   "execution_count": 10,
   "metadata": {},
   "outputs": [
    {
     "data": {
      "text/html": [
       "<table>\n",
       "<thead><tr><th></th><th scope=col>Province</th><th scope=col>Per_cent_composters</th></tr></thead>\n",
       "<tbody>\n",
       "\t<tr><th scope=row>4</th><td>Newfoundland and Labrador</td><td>43                       </td></tr>\n",
       "\t<tr><th scope=row>5</th><td>Prince Edward Island     </td><td>96                       </td></tr>\n",
       "\t<tr><th scope=row>6</th><td>Nova Scotia              </td><td>94                       </td></tr>\n",
       "\t<tr><th scope=row>7</th><td>New Brunswick            </td><td>58                       </td></tr>\n",
       "\t<tr><th scope=row>8</th><td>Quebec                   </td><td>42                       </td></tr>\n",
       "\t<tr><th scope=row>9</th><td>Ontario                  </td><td>75                       </td></tr>\n",
       "\t<tr><th scope=row>10</th><td>Manitoba                 </td><td>56                       </td></tr>\n",
       "\t<tr><th scope=row>11</th><td>Saskatchewan             </td><td>47                       </td></tr>\n",
       "\t<tr><th scope=row>12</th><td>Alberta                  </td><td>56                       </td></tr>\n",
       "\t<tr><th scope=row>13</th><td>British Columbia         </td><td>64                       </td></tr>\n",
       "</tbody>\n",
       "</table>\n"
      ],
      "text/latex": [
       "\\begin{tabular}{r|ll}\n",
       "  & Province & Per\\_cent\\_composters\\\\\n",
       "\\hline\n",
       "\t4 & Newfoundland and Labrador & 43                       \\\\\n",
       "\t5 & Prince Edward Island      & 96                       \\\\\n",
       "\t6 & Nova Scotia               & 94                       \\\\\n",
       "\t7 & New Brunswick             & 58                       \\\\\n",
       "\t8 & Quebec                    & 42                       \\\\\n",
       "\t9 & Ontario                   & 75                       \\\\\n",
       "\t10 & Manitoba                  & 56                       \\\\\n",
       "\t11 & Saskatchewan              & 47                       \\\\\n",
       "\t12 & Alberta                   & 56                       \\\\\n",
       "\t13 & British Columbia          & 64                       \\\\\n",
       "\\end{tabular}\n"
      ],
      "text/markdown": [
       "\n",
       "| <!--/--> | Province | Per_cent_composters | \n",
       "|---|---|---|---|---|---|---|---|---|---|\n",
       "| 4 | Newfoundland and Labrador | 43                        | \n",
       "| 5 | Prince Edward Island      | 96                        | \n",
       "| 6 | Nova Scotia               | 94                        | \n",
       "| 7 | New Brunswick             | 58                        | \n",
       "| 8 | Quebec                    | 42                        | \n",
       "| 9 | Ontario                   | 75                        | \n",
       "| 10 | Manitoba                  | 56                        | \n",
       "| 11 | Saskatchewan              | 47                        | \n",
       "| 12 | Alberta                   | 56                        | \n",
       "| 13 | British Columbia          | 64                        | \n",
       "\n",
       "\n"
      ],
      "text/plain": [
       "   Province                  Per_cent_composters\n",
       "4  Newfoundland and Labrador 43                 \n",
       "5  Prince Edward Island      96                 \n",
       "6  Nova Scotia               94                 \n",
       "7  New Brunswick             58                 \n",
       "8  Quebec                    42                 \n",
       "9  Ontario                   75                 \n",
       "10 Manitoba                  56                 \n",
       "11 Saskatchewan              47                 \n",
       "12 Alberta                   56                 \n",
       "13 British Columbia          64                 "
      ]
     },
     "metadata": {},
     "output_type": "display_data"
    }
   ],
   "source": [
    "prov.cdata <- Messy[c(4:13),c(1,2)]\n",
    "colnames(prov.cdata) <- c(\"Province\",\"Per_cent_composters\")\n",
    "prov.cdata"
   ]
  },
  {
   "cell_type": "markdown",
   "metadata": {},
   "source": [
    "4. Created object (Promes) for the Statistics Canada webpage \"Type of Dwelling Highlight Tables, 2016 Census\" then select the first table on that page which showed the number of dwellings of each type for each province in 2016. The object was refined to only include the 10 provinces and dwelling types that fit the houses (single dwellings) or apartment categories, ie. moveable homes and total were excluded. Appropriate column names were added, then a for loop was used to remove the commas from all the table values so they could then be converted to class numeric which would allow them to be counted and plotted later.\n"
   ]
  },
  {
   "cell_type": "code",
   "execution_count": 11,
   "metadata": {},
   "outputs": [],
   "source": [
    "Promes <- read_html(\"https://www12.statcan.gc.ca/census-recensement/2016/dp-pd/hlt-fst/td-tl/Table.cfm?Lang=Eng&T=101&SR=1&S=1&O=A&RPP=25\")\n",
    "Promes <- Promes %>% html_nodes('table')  %>% .[[1]] %>% html_table(fill=TRUE)\n",
    "\n",
    "Promes <- Promes[c(4:13),c(1,3:9)]\n",
    "colnames(Promes)<- c(\"Province\",\"Single_detached_house\",\"Apartment_five_or_more_storeys\",\n",
    "                     \"Apartment_under_five_storeys\",\n",
    "                    \"Row_house\",\"Semi_detached house\",\"Flat_duplex\",\"Other_single_attached_house\" )\n",
    "\n",
    "\n",
    "for (i in 2:8){Promes[,i] <- as.numeric(gsub(\",\",\"\",Promes[,i]))}\n"
   ]
  },
  {
   "cell_type": "markdown",
   "metadata": {},
   "source": [
    "5. Dwelling types in Promes were categorized to apartments (apartments with more than five storeys and apartments \n",
    "   with less than five storeys) and houses (Apartment or flat in a duplex, Row house, Semi-detached house, Other single-attached house, and Single-detached house) by creating vectors of the sum of houses in each of those columns for each province.\n",
    " \n",
    " The vectors were then made into a dataframe (Provdwell) which also included the names of the Provinces.\n",
    " \n"
   ]
  },
  {
   "cell_type": "code",
   "execution_count": 12,
   "metadata": {},
   "outputs": [],
   "source": [
    "apartments <- rowSums(Promes[,c(3,4)])\n",
    "houses <- rowSums(Promes[,c(2,5:8)])\n",
    "\n",
    "Provdwell<-data.frame(\"Province\"= Promes$Province,\"Buildings\"= apartments,\"Houses\" = houses)\n",
    "\n"
   ]
  },
  {
   "cell_type": "markdown",
   "metadata": {},
   "source": [
    "6. A new column was added to the Provdwell dataframe to show proportion of Houses in each province "
   ]
  },
  {
   "cell_type": "code",
   "execution_count": 13,
   "metadata": {},
   "outputs": [
    {
     "data": {
      "text/html": [
       "<table>\n",
       "<thead><tr><th></th><th scope=col>Province</th><th scope=col>Buildings</th><th scope=col>Houses</th><th scope=col>Prop.houses</th></tr></thead>\n",
       "<tbody>\n",
       "\t<tr><th scope=row>4</th><td>Newfoundland and Labrador</td><td>  12390                  </td><td> 204860                  </td><td>0.9429689                </td></tr>\n",
       "\t<tr><th scope=row>5</th><td>Prince Edward Island     </td><td>   9105                  </td><td>  47845                  </td><td>0.8401229                </td></tr>\n",
       "\t<tr><th scope=row>6</th><td>Nova Scotia              </td><td>  79755                  </td><td> 307360                  </td><td>0.7939760                </td></tr>\n",
       "\t<tr><th scope=row>7</th><td>New Brunswick            </td><td>  48210                  </td><td> 257775                  </td><td>0.8424433                </td></tr>\n",
       "\t<tr><th scope=row>8</th><td>Quebec                   </td><td>1342750                  </td><td>2165410                  </td><td>0.6172495                </td></tr>\n",
       "\t<tr><th scope=row>9</th><td>Ontario                  </td><td>1409520                  </td><td>3744760                  </td><td>0.7265341                </td></tr>\n",
       "\t<tr><th scope=row>10</th><td>Manitoba                 </td><td> 106285                  </td><td> 372335                  </td><td>0.7779345                </td></tr>\n",
       "\t<tr><th scope=row>11</th><td>Saskatchewan             </td><td>  67640                  </td><td> 355660                  </td><td>0.8402079                </td></tr>\n",
       "\t<tr><th scope=row>12</th><td>Alberta                  </td><td> 285755                  </td><td>1193945                  </td><td>0.8068832                </td></tr>\n",
       "\t<tr><th scope=row>13</th><td>British Columbia         </td><td> 562965                  </td><td>1269720                  </td><td>0.6928196                </td></tr>\n",
       "</tbody>\n",
       "</table>\n"
      ],
      "text/latex": [
       "\\begin{tabular}{r|llll}\n",
       "  & Province & Buildings & Houses & Prop.houses\\\\\n",
       "\\hline\n",
       "\t4 & Newfoundland and Labrador &   12390                   &  204860                   & 0.9429689                \\\\\n",
       "\t5 & Prince Edward Island      &    9105                   &   47845                   & 0.8401229                \\\\\n",
       "\t6 & Nova Scotia               &   79755                   &  307360                   & 0.7939760                \\\\\n",
       "\t7 & New Brunswick             &   48210                   &  257775                   & 0.8424433                \\\\\n",
       "\t8 & Quebec                    & 1342750                   & 2165410                   & 0.6172495                \\\\\n",
       "\t9 & Ontario                   & 1409520                   & 3744760                   & 0.7265341                \\\\\n",
       "\t10 & Manitoba                  &  106285                   &  372335                   & 0.7779345                \\\\\n",
       "\t11 & Saskatchewan              &   67640                   &  355660                   & 0.8402079                \\\\\n",
       "\t12 & Alberta                   &  285755                   & 1193945                   & 0.8068832                \\\\\n",
       "\t13 & British Columbia          &  562965                   & 1269720                   & 0.6928196                \\\\\n",
       "\\end{tabular}\n"
      ],
      "text/markdown": [
       "\n",
       "| <!--/--> | Province | Buildings | Houses | Prop.houses | \n",
       "|---|---|---|---|---|---|---|---|---|---|\n",
       "| 4 | Newfoundland and Labrador |   12390                   |  204860                   | 0.9429689                 | \n",
       "| 5 | Prince Edward Island      |    9105                   |   47845                   | 0.8401229                 | \n",
       "| 6 | Nova Scotia               |   79755                   |  307360                   | 0.7939760                 | \n",
       "| 7 | New Brunswick             |   48210                   |  257775                   | 0.8424433                 | \n",
       "| 8 | Quebec                    | 1342750                   | 2165410                   | 0.6172495                 | \n",
       "| 9 | Ontario                   | 1409520                   | 3744760                   | 0.7265341                 | \n",
       "| 10 | Manitoba                  |  106285                   |  372335                   | 0.7779345                 | \n",
       "| 11 | Saskatchewan              |   67640                   |  355660                   | 0.8402079                 | \n",
       "| 12 | Alberta                   |  285755                   | 1193945                   | 0.8068832                 | \n",
       "| 13 | British Columbia          |  562965                   | 1269720                   | 0.6928196                 | \n",
       "\n",
       "\n"
      ],
      "text/plain": [
       "   Province                  Buildings Houses  Prop.houses\n",
       "4  Newfoundland and Labrador   12390    204860 0.9429689  \n",
       "5  Prince Edward Island         9105     47845 0.8401229  \n",
       "6  Nova Scotia                 79755    307360 0.7939760  \n",
       "7  New Brunswick               48210    257775 0.8424433  \n",
       "8  Quebec                    1342750   2165410 0.6172495  \n",
       "9  Ontario                   1409520   3744760 0.7265341  \n",
       "10 Manitoba                   106285    372335 0.7779345  \n",
       "11 Saskatchewan                67640    355660 0.8402079  \n",
       "12 Alberta                    285755   1193945 0.8068832  \n",
       "13 British Columbia           562965   1269720 0.6928196  "
      ]
     },
     "metadata": {},
     "output_type": "display_data"
    }
   ],
   "source": [
    "Provdwell$Prop.houses <- Provdwell$Houses/rowSums(Provdwell[,c(2:3)])\n",
    "Provdwell"
   ]
  },
  {
   "cell_type": "markdown",
   "metadata": {},
   "source": [
    "7. Object (final) was created to join the composting and dwelling data by Province using left_join"
   ]
  },
  {
   "cell_type": "code",
   "execution_count": 14,
   "metadata": {},
   "outputs": [
    {
     "ename": "ERROR",
     "evalue": "Error in left_join(Provdwell, prov.cdata): could not find function \"left_join\"\n",
     "output_type": "error",
     "traceback": [
      "Error in left_join(Provdwell, prov.cdata): could not find function \"left_join\"\nTraceback:\n"
     ]
    }
   ],
   "source": [
    "final<-left_join(Provdwell, prov.cdata)"
   ]
  },
  {
   "cell_type": "markdown",
   "metadata": {},
   "source": [
    "8. Scatterplot was created with the proportion of houses on the x axis and the proportion of composted on the y axis using ggplot2. Labels were added to the axis and colours were used to identify individual provinces"
   ]
  },
  {
   "cell_type": "code",
   "execution_count": 15,
   "metadata": {},
   "outputs": [
    {
     "ename": "ERROR",
     "evalue": "Error in ggplot(final, aes(Prop.houses, Per_cent_composters, col = Province)): could not find function \"ggplot\"\n",
     "output_type": "error",
     "traceback": [
      "Error in ggplot(final, aes(Prop.houses, Per_cent_composters, col = Province)): could not find function \"ggplot\"\nTraceback:\n"
     ]
    }
   ],
   "source": [
    "ggplot(final, aes(Prop.houses,Per_cent_composters, col=Province))+\n",
    "  labs(x=\"% House Dwellers\", y=\"% Composters\", caption=\"Figure 1 Proportion of houses vs Proportion of composters by province in Canada.\")+\n",
    "  geom_point()"
   ]
  },
  {
   "cell_type": "markdown",
   "metadata": {},
   "source": [
    "A secondary analysis was pursued to assess whether per capita GDP, a proxy for household income could explain the composting participation for provinces that deviated from a positive linear relationship between proportion of houses and proportion of composters. Data for provincial per capita GDP was extracted from a compiled table on wikepedia, where it was sourced from Statistics Canada.\n",
    "\n",
    "9. An object (GDP) was created for the wikipedia webpage \"List of Canadian provinces and territories by gross domestic product\". It was then refined to only include the first table on the page showing Provincial GDP statistics"
   ]
  },
  {
   "cell_type": "code",
   "execution_count": 16,
   "metadata": {},
   "outputs": [],
   "source": [
    "GDP<-read_html(\"https://en.wikipedia.org/wiki/List_of_Canadian_provinces_and_territories_by_gross_domestic_product#GDP_and_per_capita_GDP\")\n",
    "GDP <- GDP %>% html_nodes('table')  %>% .[[1]] %>% html_table(fill=TRUE)\n"
   ]
  },
  {
   "cell_type": "markdown",
   "metadata": {},
   "source": [
    "10. A for loop was used to remove the coding and '♠' symbol that appeared before all the GDP data values"
   ]
  },
  {
   "cell_type": "code",
   "execution_count": 17,
   "metadata": {},
   "outputs": [],
   "source": [
    "for(i in 2:11){GDP[i,5]<-strsplit(GDP[,5],'♠')[[i]][2]}"
   ]
  },
  {
   "cell_type": "markdown",
   "metadata": {},
   "source": [
    "11. the commas were removed from the data values using gsub so they could be converted to class numeric "
   ]
  },
  {
   "cell_type": "code",
   "execution_count": 19,
   "metadata": {},
   "outputs": [],
   "source": [
    "GDP[,5]<-as.numeric(gsub(\",\",\"\",GDP[,5])) "
   ]
  },
  {
   "cell_type": "markdown",
   "metadata": {},
   "source": [
    "12. Relevent rows and columns were selected from the original table and renamed appropriately"
   ]
  },
  {
   "cell_type": "code",
   "execution_count": 20,
   "metadata": {},
   "outputs": [],
   "source": [
    "GDP<-GDP[2:11,c(1,5)]\n",
    "colnames(GDP)<-c(\"Province\",\"Percap.GDP\")"
   ]
  },
  {
   "cell_type": "markdown",
   "metadata": {},
   "source": [
    "13. Per capita GDP was then added to the 'final' dataframe using left_join so it could then be plotted against \n",
    " provincial composting participation \n"
   ]
  },
  {
   "cell_type": "code",
   "execution_count": 21,
   "metadata": {},
   "outputs": [
    {
     "ename": "ERROR",
     "evalue": "Error in left_join(GDP, final): could not find function \"left_join\"\n",
     "output_type": "error",
     "traceback": [
      "Error in left_join(GDP, final): could not find function \"left_join\"\nTraceback:\n"
     ]
    }
   ],
   "source": [
    "final<-left_join(GDP,final)\n",
    "\n",
    "ggplot(final, aes(Percap.GDP,Per_cent_composters, col=Province,))+\n",
    "  geom_point()+\n",
    "  labs(x=\"Per Capita GDP($)\", y=\"% Composters\",caption=\"Figure 2. Per capita GDP against Proportion of composters for each province in Canada.\")\n"
   ]
  },
  {
   "cell_type": "markdown",
   "metadata": {},
   "source": [
    "Discussion\n",
    "\n",
    "Plotting proportion of single dwellings to composting participation for each province showed a positive linear relationship for Nova Scotia, Prince Edward Island, Ontario, British Columbia and Quebec. Since British Columbia and Quebec had relatively low proportions of single dwelling houses and composters, efforts to increase composting participation in those provinces might benefit from focusing on developing programs for apartment dwellers.\n",
    " The other five provinces had relatively high proportions of single dwellings yet had low composting participation. Those deviances from the positive linear trend do not support Statistics Canada’s conclusion that a direct relationship exists between dwelling type and composting participation. They indicate that factors other than dwelling type have more influence over composting behavior in those provinces. \n",
    "\n",
    "Statistics Canada identified income as the second most influential factor on composting participation. When per capita GDP was used as a proxy for household income for each province and plotted against composting activities, Quebec, New Brunswick, Manitoba, British Columbia and Ontario seemed to exhibit a positive linear relationship between them. The apparent relationship may indicate that income is more influential for composting participation in those provinces, particularly in New Brunswick and Manitoba that did not appear to be influenced by proportion of single dwelling types. In those provinces efforts to improve composting participation may also consider focusing on making it more accessible to low income families.\n",
    "\n",
    "Nova Scotia and Prince Edward Island exhibited the greatest composting activity, while Quebec and Newfoundland composted the least. The stringency of waste management regulations in those provinces have been proposed to explain the differences. The stringency of management regulations was not measured by stats Canada, but that would likely be a very influential factor for composting participation across all provinces because laws work. \n",
    "\n",
    "This study had a number of limitations that MAY have affected the integrity of the results. Firstly, the years in which dwelling type data, composting data and GDP data were collected differed by seven years. Secondly, per capita GDP was not the most accurate proxy for household income, but due to limited time and skills of the analyst, the Stats Canada table for household income was not feasible for use in this study. Thirdly, the analysis could have been more precise and informative with a municipal scope rather than provincial, since composting programs tend to operate on municipalities. Finally, positive linear relationships are weak evidence for causal relationships. More in-depth regression analyses would be needed to give validity to this study.\n",
    "\n",
    "As a signatory of the Paris agreement, Canada has a leading role to play in reduction of greenhouse gases. It is therefore necessary that all efforts be taken to optimize waste management and composting practices. Household composting allows civilians to do their part to reduce their carbon footprint, and composting is a daily reminder to protect the planet.\n",
    "\n",
    "\n"
   ]
  }
 ],
 "metadata": {
  "kernelspec": {
   "display_name": "R",
   "language": "R",
   "name": "ir"
  },
  "language_info": {
   "codemirror_mode": "r",
   "file_extension": ".r",
   "mimetype": "text/x-r-source",
   "name": "R",
   "pygments_lexer": "r",
   "version": "3.5.1"
  }
 },
 "nbformat": 4,
 "nbformat_minor": 2
}
